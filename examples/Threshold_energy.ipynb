{
 "cells": [
  {
   "cell_type": "markdown",
   "metadata": {},
   "source": [
    "## GLM Energy Thresholds\n",
    "\n",
    "This notebook demonstrates how to prune a GLM flash-group-event tree on an event energy threshold. The group and flash areas and energies are recalculated to be consistent with removal of the events below threshold in each flash.\n",
    "\n",
    "The actual thresholding of the dataset is a single function call. Most of this notebook is a few examples of visualizing the effects of applying a threshold, illustrated with:\n",
    "1. The largest flash in the dataset\n",
    "2. The statistics of flashes as a function "
   ]
  },
  {
   "cell_type": "code",
   "execution_count": 1,
   "metadata": {},
   "outputs": [],
   "source": [
    "import numpy as np\n",
    "import xarray as xr\n",
    "from glmtools.io.glm import GLMDataset, discretize_2d_location\n",
    "from glmtools.io.threshold import filter_to_energy"
   ]
  },
  {
   "cell_type": "code",
   "execution_count": 2,
   "metadata": {},
   "outputs": [],
   "source": [
    "%matplotlib widget\n",
    "import matplotlib.pyplot as plt"
   ]
  },
  {
   "cell_type": "code",
   "execution_count": 3,
   "metadata": {},
   "outputs": [],
   "source": [
    "from glmtools.test.common import get_sample_data_list\n",
    "included_data = get_sample_data_list()\n",
    "glm = GLMDataset(included_data[0])"
   ]
  },
  {
   "cell_type": "code",
   "execution_count": 4,
   "metadata": {},
   "outputs": [],
   "source": [
    "threshes = (np.arange(4)+0.5)*1e-6\n",
    "n_thresh = threshes.shape[0]\n",
    "\n",
    "def calc_filtered():\n",
    "    prune_dss = [filter_to_energy(glm, thresh) for thresh in threshes[:]]\n",
    "    return prune_dss\n",
    "    \n",
    "prune_dss = calc_filtered()"
   ]
  },
  {
   "cell_type": "code",
   "execution_count": 5,
   "metadata": {},
   "outputs": [],
   "source": [
    "plt.close('all')"
   ]
  },
  {
   "cell_type": "code",
   "execution_count": 6,
   "metadata": {},
   "outputs": [],
   "source": [
    "def check_biggest_flash(thresh, glm):\n",
    "    biggest_flash_id = glm.dataset.flash_id[glm.dataset.flash_area.argmax()].data\n",
    "    one_flash = glm.get_flashes([biggest_flash_id])\n",
    "    the_area = one_flash.flash_area.data[0]\n",
    "    fig, ax = plt.subplots(1,1, figsize=(8,4))\n",
    "    hist_data = one_flash.event_energy.plot.hist(bins=np.arange(0,15e-6, 0.5e-6), ax=ax)\n",
    "    ax.set_title(f'Flash {biggest_flash_id:}, Area {the_area:7.1f} for Thresh={thresh:3.1e}')"
   ]
  },
  {
   "cell_type": "code",
   "execution_count": 7,
   "metadata": {},
   "outputs": [
    {
     "data": {
      "application/vnd.jupyter.widget-view+json": {
       "model_id": "4f0513b57e004e579174de3f16ea17ab",
       "version_major": 2,
       "version_minor": 0
      },
      "text/plain": [
       "Canvas(toolbar=Toolbar(toolitems=[('Home', 'Reset original view', 'home', 'home'), ('Back', 'Back to previous …"
      ]
     },
     "metadata": {},
     "output_type": "display_data"
    },
    {
     "data": {
      "application/vnd.jupyter.widget-view+json": {
       "model_id": "e67e12fc15794738867e4304cd02d1fa",
       "version_major": 2,
       "version_minor": 0
      },
      "text/plain": [
       "Canvas(toolbar=Toolbar(toolitems=[('Home', 'Reset original view', 'home', 'home'), ('Back', 'Back to previous …"
      ]
     },
     "metadata": {},
     "output_type": "display_data"
    },
    {
     "data": {
      "application/vnd.jupyter.widget-view+json": {
       "model_id": "fcd1fa891b55411583137335fa62b2ef",
       "version_major": 2,
       "version_minor": 0
      },
      "text/plain": [
       "Canvas(toolbar=Toolbar(toolitems=[('Home', 'Reset original view', 'home', 'home'), ('Back', 'Back to previous …"
      ]
     },
     "metadata": {},
     "output_type": "display_data"
    },
    {
     "data": {
      "application/vnd.jupyter.widget-view+json": {
       "model_id": "873266a4f0f44833b4c9f80c3f67862e",
       "version_major": 2,
       "version_minor": 0
      },
      "text/plain": [
       "Canvas(toolbar=Toolbar(toolitems=[('Home', 'Reset original view', 'home', 'home'), ('Back', 'Back to previous …"
      ]
     },
     "metadata": {},
     "output_type": "display_data"
    },
    {
     "data": {
      "application/vnd.jupyter.widget-view+json": {
       "model_id": "210d7411858344ed960302d6df46d6f4",
       "version_major": 2,
       "version_minor": 0
      },
      "text/plain": [
       "Canvas(toolbar=Toolbar(toolitems=[('Home', 'Reset original view', 'home', 'home'), ('Back', 'Back to previous …"
      ]
     },
     "metadata": {},
     "output_type": "display_data"
    }
   ],
   "source": [
    "check_biggest_flash(0, glm)\n",
    "for thresh, dsp in zip(threshes, prune_dss):\n",
    "    check_biggest_flash(thresh, dsp)    "
   ]
  },
  {
   "cell_type": "code",
   "execution_count": 8,
   "metadata": {},
   "outputs": [
    {
     "name": "stdout",
     "output_type": "stream",
     "text": [
      "=== 0.5 fJ ===\n",
      "number_of_events 21480\n",
      "number_of_groups 7478\n",
      "number_of_flashes 274\n",
      "=== 1.5 fJ ===\n",
      "number_of_events 21473\n",
      "number_of_groups 7478\n",
      "number_of_flashes 274\n",
      "=== 2.5 fJ ===\n",
      "number_of_events 14187\n",
      "number_of_groups 5799\n",
      "number_of_flashes 274\n",
      "=== 3.5 fJ ===\n",
      "number_of_events 8880\n",
      "number_of_groups 4067\n",
      "number_of_flashes 259\n"
     ]
    }
   ],
   "source": [
    "area_bins = (1.5**np.arange(14))*64.0\n",
    "area_bin_ctr = (area_bins[1:] + area_bins[:-1]) / 2\n",
    "\n",
    "# count_bins = 2**(np.arange(0,30,1)-0.5)\n",
    "count_bins = np.arange(0,30,1)-0.5\n",
    "count_bin_ctr = (count_bins[1:] + count_bins[:-1]) / 2\n",
    "# print(count_bins)\n",
    "\n",
    "flash_area_data = []\n",
    "group_area_data = []\n",
    "flash_count_data = []\n",
    "group_count_data = []\n",
    "event_count_data = []\n",
    "flash_nevent_data = []\n",
    "flash_ngroup_data = []\n",
    "\n",
    "for thresh, gds in zip(threshes, prune_dss):\n",
    "    ds = gds.dataset\n",
    "    flash_area_data.append(np.histogram(ds['flash_area'].data, area_bins)[0])\n",
    "    group_area_data.append(np.histogram(ds['group_area'].data, area_bins)[0])\n",
    "    flash_nevent_data.append(np.histogram(ds['flash_child_event_count'].data, count_bins)[0])\n",
    "    flash_ngroup_data.append(np.histogram(ds['flash_child_group_count'].data, count_bins)[0])\n",
    "    \n",
    "    flash_count_data.append(ds.dims['number_of_flashes'])\n",
    "    group_count_data.append(ds.dims['number_of_groups'])\n",
    "    event_count_data.append(ds.dims['number_of_events'])\n",
    "\n",
    "    print('===', thresh*1e6, 'fJ ===')\n",
    "    for k in ('number_of_events', 'number_of_groups', 'number_of_flashes'):\n",
    "        print(k, ds.dims[k])"
   ]
  },
  {
   "cell_type": "code",
   "execution_count": 9,
   "metadata": {},
   "outputs": [
    {
     "data": {
      "application/vnd.jupyter.widget-view+json": {
       "model_id": "ab9edbd158f74428a7b1e3df33b417c0",
       "version_major": 2,
       "version_minor": 0
      },
      "text/plain": [
       "Canvas(toolbar=Toolbar(toolitems=[('Home', 'Reset original view', 'home', 'home'), ('Back', 'Back to previous …"
      ]
     },
     "metadata": {},
     "output_type": "display_data"
    },
    {
     "data": {
      "text/plain": [
       "Text(0.5, 1.0, 'By threshold (fJ)')"
      ]
     },
     "execution_count": 9,
     "metadata": {},
     "output_type": "execute_result"
    }
   ],
   "source": [
    "fig, ax = plt.subplots(2,2, figsize=(11,11))\n",
    "\n",
    "max_thresh = max(threshes)\n",
    "thresh_colors = [(0.2, 0.5*ti/max_thresh, ti/max_thresh) for ti in threshes]\n",
    "\n",
    "alpha=0.5\n",
    "\n",
    "for ti in range(n_thresh):\n",
    "    ax[0,0].scatter(area_bin_ctr, group_area_data[ti], color=thresh_colors[ti], s=4e6*threshes[ti], marker='s', alpha=alpha)\n",
    "    ax[0,0].plot(area_bin_ctr, group_area_data[ti], color=thresh_colors[ti], marker='', alpha=alpha)\n",
    "ax[0,0].semilogx()\n",
    "ax[0,0].legend(threshes*1.e6)\n",
    "ax[0,0].set_xlabel('Group Area (km^2)')\n",
    "ax[0,0].set_ylabel('Count')\n",
    "ax[0,0].set_title('By threshold (fJ)')\n",
    "\n",
    "for ti in range(n_thresh):\n",
    "    ax[0,1].scatter(area_bin_ctr, flash_area_data[ti], color=thresh_colors[ti], s=4e6*threshes[ti], marker='s', alpha=alpha)\n",
    "    ax[0,1].plot(area_bin_ctr, flash_area_data[ti], color=thresh_colors[ti], marker='', alpha=alpha)\n",
    "ax[0,1].semilogx()\n",
    "ax[0,1].legend(threshes*1.e6)\n",
    "ax[0,1].set_xlabel('Flash Area (km^2)')\n",
    "ax[0,1].set_ylabel('Count')\n",
    "ax[0,1].set_title('By threshold (fJ)')\n",
    "\n",
    "for ti in range(n_thresh):\n",
    "    ax[1,0].scatter(count_bin_ctr, flash_ngroup_data[ti], color=thresh_colors[ti], s=4e6*threshes[ti], marker='s', alpha=alpha)\n",
    "    ax[1,0].plot(count_bin_ctr, flash_ngroup_data[ti], color=thresh_colors[ti], marker='', alpha=alpha)\n",
    "# ax[1,0].semilogx()\n",
    "ax[1,0].legend(threshes*1.e6)\n",
    "ax[1,0].set_xlabel('Groups per Flash')\n",
    "ax[1,0].set_ylabel('Count')\n",
    "ax[1,0].set_title('By threshold (fJ)')\n",
    "\n",
    "\n",
    "for ti in range(n_thresh):\n",
    "    ax[1,1].scatter(count_bin_ctr, flash_nevent_data[ti], color=thresh_colors[ti], s=4e6*threshes[ti], marker='s', alpha=alpha)\n",
    "    ax[1,1].plot(count_bin_ctr, flash_nevent_data[ti], color=thresh_colors[ti], marker='', alpha=alpha)\n",
    "# ax[1,1].semilogx()\n",
    "ax[1,1].legend(threshes*1.e6)\n",
    "ax[1,1].set_xlabel('Events per Flash')\n",
    "ax[1,1].set_ylabel('Count')\n",
    "ax[1,1].set_title('By threshold (fJ)')"
   ]
  },
  {
   "cell_type": "code",
   "execution_count": null,
   "metadata": {},
   "outputs": [],
   "source": []
  }
 ],
 "metadata": {
  "kernelspec": {
   "display_name": "Python 3",
   "language": "python",
   "name": "python3"
  },
  "language_info": {
   "codemirror_mode": {
    "name": "ipython",
    "version": 3
   },
   "file_extension": ".py",
   "mimetype": "text/x-python",
   "name": "python",
   "nbconvert_exporter": "python",
   "pygments_lexer": "ipython3",
   "version": "3.6.7"
  }
 },
 "nbformat": 4,
 "nbformat_minor": 4
}
