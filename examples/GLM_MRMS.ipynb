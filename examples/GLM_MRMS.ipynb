{
 "cells": [
  {
   "cell_type": "code",
   "execution_count": 1,
   "id": "9b04ae48-1913-46cd-b49c-e53b1117b772",
   "metadata": {},
   "outputs": [],
   "source": [
    "import glob\n",
    "import gzip\n",
    "import logging\n",
    "import os\n",
    "import shutil\n",
    "\n",
    "import cartopy.crs as ccrs\n",
    "import cartopy.feature as cfeature\n",
    "import matplotlib.pyplot as plt\n",
    "import numpy as np\n",
    "import pandas as pd\n",
    "import xarray\n",
    "\n",
    "logging.basicConfig(\n",
    "    format=\"%(asctime)s - %(message)s\", level=logging.INFO\n",
    ")  # before any glmtools are imported. it starts a logger to who knows?\n",
    "import glm as myglm\n",
    "from glmtools.io.glm import GLMDataset\n",
    "from glmtools.plot.locations import plot_flash\n",
    "from grid.make_GLM_grids import create_parser, grid_setup"
   ]
  },
  {
   "cell_type": "code",
   "execution_count": 2,
   "id": "4e2322e5-d79d-4555-8476-a9374fef09a6",
   "metadata": {},
   "outputs": [],
   "source": [
    "parser = create_parser()\n",
    "args = parser.parse_args([])\n",
    "\n",
    "startdate, lon_range, lat_range = (\n",
    "    pd.to_datetime(\"20210710T08\"),\n",
    "    (-101, -87),\n",
    "    (37, 43),\n",
    ")  # upper midwest\n",
    "startdate, lon_range, lat_range = (\n",
    "    pd.to_datetime(\"20180516T02\"),\n",
    "    (-103, -96),\n",
    "    (29, 36),\n",
    ")  # waf-d-19-0141.1 Fig 3a) Mallard fire\n",
    "# Find flashes in some location.\n",
    "\n",
    "dx = 81.2705\n",
    "dx = 10.0"
   ]
  },
  {
   "cell_type": "code",
   "execution_count": 3,
   "id": "ac240442-543b-4760-b5be-84fd97533749",
   "metadata": {},
   "outputs": [],
   "source": [
    "def make_map(bbox, projection=ccrs.PlateCarree()):\n",
    "    fig, ax = plt.subplots(figsize=(16, 9), subplot_kw=dict(projection=projection))\n",
    "    ax.set_extent(bbox)\n",
    "    ax.add_feature(cfeature.BORDERS.with_scale(\"50m\"), linewidth=0.25)\n",
    "    ax.add_feature(cfeature.COASTLINE.with_scale(\"50m\"), linewidth=0.25)\n",
    "    ax.add_feature(cfeature.STATES.with_scale(\"50m\"), linewidth=0.15)\n",
    "    ax.add_feature(\n",
    "        cfeature.LAKES.with_scale(\"50m\"),\n",
    "        edgecolor=\"k\",\n",
    "        linewidth=0.25,\n",
    "        facecolor=\"k\",\n",
    "        alpha=0.05,\n",
    "    )\n",
    "    gl = ax.gridlines(draw_labels=True)\n",
    "    gl.top_labels = gl.right_labels = False\n",
    "    return fig, ax\n",
    "\n",
    "\n",
    "def glm_files(args, kwargs):\n",
    "    xdeg = f\"{kwargs['dx'][0]:.4f}deg-dx_\"\n",
    "    logging.debug(args)\n",
    "    start = pd.to_datetime(args.start).strftime(\"%Y%m%d_%H%M%S\")\n",
    "    search_str = os.path.join(\n",
    "        args.outdir, f'{kwargs[\"output_filename_prefix\"]}_{start}_{args.dt:.0f}_*{xdeg}*.nc'\n",
    "    )\n",
    "    ifiles = glob.glob(search_str)\n",
    "    logging.info(f\"found {len(ifiles)} files matching {search_str}\")\n",
    "    return ifiles"
   ]
  },
  {
   "cell_type": "code",
   "execution_count": 4,
   "id": "a0296455-728a-4831-b7d6-5d8b8adfd674",
   "metadata": {},
   "outputs": [
    {
     "name": "stderr",
     "output_type": "stream",
     "text": [
      "2024-10-16 10:29:16,079 - fs.ls(noaa-goes16/GLM-L2-LCFA/2018/136/02)\n",
      "2024-10-16 10:29:16,494 - fs.ls(noaa-goes16/GLM-L2-LCFA/2018/136/03)\n"
     ]
    }
   ],
   "source": [
    "duration = pd.to_timedelta(\"1H\")\n",
    "enddate = startdate + duration\n",
    "filenames = myglm.download(startdate, enddate, bucket=\"noaa-goes16\")"
   ]
  },
  {
   "cell_type": "code",
   "execution_count": 5,
   "id": "e2f22d72-73c8-4b72-8d11-f68c66662964",
   "metadata": {},
   "outputs": [
    {
     "data": {
      "text/plain": [
       "Namespace(filenames=['/glade/derecho/scratch/ahijevyc/noaa-goes16/GLM-L2-LCFA/2018/136/02/OR_GLM-L2-LCFA_G16_s20181360200000_e20181360200200_c20181360200225.nc', '/glade/derecho/scratch/ahijevyc/noaa-goes16/GLM-L2-LCFA/2018/136/02/OR_GLM-L2-LCFA_G16_s20181360200200_e20181360200400_c20181360200423.nc', '/glade/derecho/scratch/ahijevyc/noaa-goes16/GLM-L2-LCFA/2018/136/02/OR_GLM-L2-LCFA_G16_s20181360200400_e20181360201000_c20181360201024.nc', '/glade/derecho/scratch/ahijevyc/noaa-goes16/GLM-L2-LCFA/2018/136/02/OR_GLM-L2-LCFA_G16_s20181360201000_e20181360201200_c20181360201226.nc', '/glade/derecho/scratch/ahijevyc/noaa-goes16/GLM-L2-LCFA/2018/136/02/OR_GLM-L2-LCFA_G16_s20181360201200_e20181360201400_c20181360201424.nc', '/glade/derecho/scratch/ahijevyc/noaa-goes16/GLM-L2-LCFA/2018/136/02/OR_GLM-L2-LCFA_G16_s20181360201400_e20181360202000_c20181360202027.nc', '/glade/derecho/scratch/ahijevyc/noaa-goes16/GLM-L2-LCFA/2018/136/02/OR_GLM-L2-LCFA_G16_s20181360202000_e20181360202200_c20181360202230.nc', '/glade/derecho/scratch/ahijevyc/noaa-goes16/GLM-L2-LCFA/2018/136/02/OR_GLM-L2-LCFA_G16_s20181360202200_e20181360202400_c20181360202424.nc', '/glade/derecho/scratch/ahijevyc/noaa-goes16/GLM-L2-LCFA/2018/136/02/OR_GLM-L2-LCFA_G16_s20181360202400_e20181360203000_c20181360203028.nc', '/glade/derecho/scratch/ahijevyc/noaa-goes16/GLM-L2-LCFA/2018/136/02/OR_GLM-L2-LCFA_G16_s20181360203000_e20181360203200_c20181360203228.nc', '/glade/derecho/scratch/ahijevyc/noaa-goes16/GLM-L2-LCFA/2018/136/02/OR_GLM-L2-LCFA_G16_s20181360203200_e20181360203400_c20181360203429.nc', '/glade/derecho/scratch/ahijevyc/noaa-goes16/GLM-L2-LCFA/2018/136/02/OR_GLM-L2-LCFA_G16_s20181360203400_e20181360204000_c20181360204033.nc', '/glade/derecho/scratch/ahijevyc/noaa-goes16/GLM-L2-LCFA/2018/136/02/OR_GLM-L2-LCFA_G16_s20181360204000_e20181360204200_c20181360204230.nc', '/glade/derecho/scratch/ahijevyc/noaa-goes16/GLM-L2-LCFA/2018/136/02/OR_GLM-L2-LCFA_G16_s20181360204200_e20181360204400_c20181360204429.nc', '/glade/derecho/scratch/ahijevyc/noaa-goes16/GLM-L2-LCFA/2018/136/02/OR_GLM-L2-LCFA_G16_s20181360204400_e20181360205000_c20181360205030.nc', '/glade/derecho/scratch/ahijevyc/noaa-goes16/GLM-L2-LCFA/2018/136/02/OR_GLM-L2-LCFA_G16_s20181360205000_e20181360205200_c20181360205227.nc', '/glade/derecho/scratch/ahijevyc/noaa-goes16/GLM-L2-LCFA/2018/136/02/OR_GLM-L2-LCFA_G16_s20181360205200_e20181360205400_c20181360205427.nc', '/glade/derecho/scratch/ahijevyc/noaa-goes16/GLM-L2-LCFA/2018/136/02/OR_GLM-L2-LCFA_G16_s20181360205400_e20181360206000_c20181360206028.nc', '/glade/derecho/scratch/ahijevyc/noaa-goes16/GLM-L2-LCFA/2018/136/02/OR_GLM-L2-LCFA_G16_s20181360206000_e20181360206200_c20181360206232.nc', '/glade/derecho/scratch/ahijevyc/noaa-goes16/GLM-L2-LCFA/2018/136/02/OR_GLM-L2-LCFA_G16_s20181360206200_e20181360206400_c20181360206425.nc', '/glade/derecho/scratch/ahijevyc/noaa-goes16/GLM-L2-LCFA/2018/136/02/OR_GLM-L2-LCFA_G16_s20181360206400_e20181360207000_c20181360207026.nc', '/glade/derecho/scratch/ahijevyc/noaa-goes16/GLM-L2-LCFA/2018/136/02/OR_GLM-L2-LCFA_G16_s20181360207000_e20181360207200_c20181360207230.nc', '/glade/derecho/scratch/ahijevyc/noaa-goes16/GLM-L2-LCFA/2018/136/02/OR_GLM-L2-LCFA_G16_s20181360207200_e20181360207400_c20181360207427.nc', '/glade/derecho/scratch/ahijevyc/noaa-goes16/GLM-L2-LCFA/2018/136/02/OR_GLM-L2-LCFA_G16_s20181360207400_e20181360208000_c20181360208028.nc', '/glade/derecho/scratch/ahijevyc/noaa-goes16/GLM-L2-LCFA/2018/136/02/OR_GLM-L2-LCFA_G16_s20181360208000_e20181360208200_c20181360208227.nc', '/glade/derecho/scratch/ahijevyc/noaa-goes16/GLM-L2-LCFA/2018/136/02/OR_GLM-L2-LCFA_G16_s20181360208200_e20181360208400_c20181360208425.nc', '/glade/derecho/scratch/ahijevyc/noaa-goes16/GLM-L2-LCFA/2018/136/02/OR_GLM-L2-LCFA_G16_s20181360208400_e20181360209000_c20181360209028.nc', '/glade/derecho/scratch/ahijevyc/noaa-goes16/GLM-L2-LCFA/2018/136/02/OR_GLM-L2-LCFA_G16_s20181360209000_e20181360209200_c20181360209224.nc', '/glade/derecho/scratch/ahijevyc/noaa-goes16/GLM-L2-LCFA/2018/136/02/OR_GLM-L2-LCFA_G16_s20181360209200_e20181360209400_c20181360209427.nc', '/glade/derecho/scratch/ahijevyc/noaa-goes16/GLM-L2-LCFA/2018/136/02/OR_GLM-L2-LCFA_G16_s20181360209400_e20181360210000_c20181360210027.nc', '/glade/derecho/scratch/ahijevyc/noaa-goes16/GLM-L2-LCFA/2018/136/02/OR_GLM-L2-LCFA_G16_s20181360210000_e20181360210200_c20181360210230.nc', '/glade/derecho/scratch/ahijevyc/noaa-goes16/GLM-L2-LCFA/2018/136/02/OR_GLM-L2-LCFA_G16_s20181360210200_e20181360210400_c20181360210428.nc', '/glade/derecho/scratch/ahijevyc/noaa-goes16/GLM-L2-LCFA/2018/136/02/OR_GLM-L2-LCFA_G16_s20181360210400_e20181360211000_c20181360211026.nc', '/glade/derecho/scratch/ahijevyc/noaa-goes16/GLM-L2-LCFA/2018/136/02/OR_GLM-L2-LCFA_G16_s20181360211000_e20181360211200_c20181360211229.nc', '/glade/derecho/scratch/ahijevyc/noaa-goes16/GLM-L2-LCFA/2018/136/02/OR_GLM-L2-LCFA_G16_s20181360211200_e20181360211400_c20181360211427.nc', '/glade/derecho/scratch/ahijevyc/noaa-goes16/GLM-L2-LCFA/2018/136/02/OR_GLM-L2-LCFA_G16_s20181360211400_e20181360212000_c20181360212026.nc', '/glade/derecho/scratch/ahijevyc/noaa-goes16/GLM-L2-LCFA/2018/136/02/OR_GLM-L2-LCFA_G16_s20181360212000_e20181360212200_c20181360212224.nc', '/glade/derecho/scratch/ahijevyc/noaa-goes16/GLM-L2-LCFA/2018/136/02/OR_GLM-L2-LCFA_G16_s20181360212200_e20181360212400_c20181360212427.nc', '/glade/derecho/scratch/ahijevyc/noaa-goes16/GLM-L2-LCFA/2018/136/02/OR_GLM-L2-LCFA_G16_s20181360212400_e20181360213000_c20181360213027.nc', '/glade/derecho/scratch/ahijevyc/noaa-goes16/GLM-L2-LCFA/2018/136/02/OR_GLM-L2-LCFA_G16_s20181360213000_e20181360213200_c20181360213227.nc', '/glade/derecho/scratch/ahijevyc/noaa-goes16/GLM-L2-LCFA/2018/136/02/OR_GLM-L2-LCFA_G16_s20181360213200_e20181360213400_c20181360213426.nc', '/glade/derecho/scratch/ahijevyc/noaa-goes16/GLM-L2-LCFA/2018/136/02/OR_GLM-L2-LCFA_G16_s20181360213400_e20181360214000_c20181360214027.nc', '/glade/derecho/scratch/ahijevyc/noaa-goes16/GLM-L2-LCFA/2018/136/02/OR_GLM-L2-LCFA_G16_s20181360214000_e20181360214200_c20181360214228.nc', '/glade/derecho/scratch/ahijevyc/noaa-goes16/GLM-L2-LCFA/2018/136/02/OR_GLM-L2-LCFA_G16_s20181360214200_e20181360214400_c20181360214426.nc', '/glade/derecho/scratch/ahijevyc/noaa-goes16/GLM-L2-LCFA/2018/136/02/OR_GLM-L2-LCFA_G16_s20181360214400_e20181360215000_c20181360215029.nc', '/glade/derecho/scratch/ahijevyc/noaa-goes16/GLM-L2-LCFA/2018/136/02/OR_GLM-L2-LCFA_G16_s20181360215000_e20181360215200_c20181360215225.nc', '/glade/derecho/scratch/ahijevyc/noaa-goes16/GLM-L2-LCFA/2018/136/02/OR_GLM-L2-LCFA_G16_s20181360215200_e20181360215400_c20181360215427.nc', '/glade/derecho/scratch/ahijevyc/noaa-goes16/GLM-L2-LCFA/2018/136/02/OR_GLM-L2-LCFA_G16_s20181360215400_e20181360216000_c20181360216027.nc', '/glade/derecho/scratch/ahijevyc/noaa-goes16/GLM-L2-LCFA/2018/136/02/OR_GLM-L2-LCFA_G16_s20181360216000_e20181360216200_c20181360216227.nc', '/glade/derecho/scratch/ahijevyc/noaa-goes16/GLM-L2-LCFA/2018/136/02/OR_GLM-L2-LCFA_G16_s20181360216200_e20181360216400_c20181360216425.nc', '/glade/derecho/scratch/ahijevyc/noaa-goes16/GLM-L2-LCFA/2018/136/02/OR_GLM-L2-LCFA_G16_s20181360216400_e20181360217000_c20181360217026.nc', '/glade/derecho/scratch/ahijevyc/noaa-goes16/GLM-L2-LCFA/2018/136/02/OR_GLM-L2-LCFA_G16_s20181360217000_e20181360217200_c20181360217231.nc', '/glade/derecho/scratch/ahijevyc/noaa-goes16/GLM-L2-LCFA/2018/136/02/OR_GLM-L2-LCFA_G16_s20181360217200_e20181360217400_c20181360217427.nc', '/glade/derecho/scratch/ahijevyc/noaa-goes16/GLM-L2-LCFA/2018/136/02/OR_GLM-L2-LCFA_G16_s20181360217400_e20181360218000_c20181360218029.nc', '/glade/derecho/scratch/ahijevyc/noaa-goes16/GLM-L2-LCFA/2018/136/02/OR_GLM-L2-LCFA_G16_s20181360218000_e20181360218200_c20181360218229.nc', '/glade/derecho/scratch/ahijevyc/noaa-goes16/GLM-L2-LCFA/2018/136/02/OR_GLM-L2-LCFA_G16_s20181360218200_e20181360218400_c20181360218429.nc', '/glade/derecho/scratch/ahijevyc/noaa-goes16/GLM-L2-LCFA/2018/136/02/OR_GLM-L2-LCFA_G16_s20181360218400_e20181360219000_c20181360219028.nc', '/glade/derecho/scratch/ahijevyc/noaa-goes16/GLM-L2-LCFA/2018/136/02/OR_GLM-L2-LCFA_G16_s20181360219000_e20181360219200_c20181360219229.nc', '/glade/derecho/scratch/ahijevyc/noaa-goes16/GLM-L2-LCFA/2018/136/02/OR_GLM-L2-LCFA_G16_s20181360219200_e20181360219400_c20181360219427.nc', '/glade/derecho/scratch/ahijevyc/noaa-goes16/GLM-L2-LCFA/2018/136/02/OR_GLM-L2-LCFA_G16_s20181360219400_e20181360220000_c20181360220031.nc', '/glade/derecho/scratch/ahijevyc/noaa-goes16/GLM-L2-LCFA/2018/136/02/OR_GLM-L2-LCFA_G16_s20181360220000_e20181360220200_c20181360220234.nc', '/glade/derecho/scratch/ahijevyc/noaa-goes16/GLM-L2-LCFA/2018/136/02/OR_GLM-L2-LCFA_G16_s20181360220200_e20181360220400_c20181360220428.nc', '/glade/derecho/scratch/ahijevyc/noaa-goes16/GLM-L2-LCFA/2018/136/02/OR_GLM-L2-LCFA_G16_s20181360220400_e20181360221000_c20181360221026.nc', '/glade/derecho/scratch/ahijevyc/noaa-goes16/GLM-L2-LCFA/2018/136/02/OR_GLM-L2-LCFA_G16_s20181360221000_e20181360221200_c20181360221234.nc', '/glade/derecho/scratch/ahijevyc/noaa-goes16/GLM-L2-LCFA/2018/136/02/OR_GLM-L2-LCFA_G16_s20181360221200_e20181360221400_c20181360221424.nc', '/glade/derecho/scratch/ahijevyc/noaa-goes16/GLM-L2-LCFA/2018/136/02/OR_GLM-L2-LCFA_G16_s20181360221400_e20181360222000_c20181360222029.nc', '/glade/derecho/scratch/ahijevyc/noaa-goes16/GLM-L2-LCFA/2018/136/02/OR_GLM-L2-LCFA_G16_s20181360222000_e20181360222200_c20181360222231.nc', '/glade/derecho/scratch/ahijevyc/noaa-goes16/GLM-L2-LCFA/2018/136/02/OR_GLM-L2-LCFA_G16_s20181360222200_e20181360222400_c20181360222430.nc', '/glade/derecho/scratch/ahijevyc/noaa-goes16/GLM-L2-LCFA/2018/136/02/OR_GLM-L2-LCFA_G16_s20181360222400_e20181360223000_c20181360223030.nc', '/glade/derecho/scratch/ahijevyc/noaa-goes16/GLM-L2-LCFA/2018/136/02/OR_GLM-L2-LCFA_G16_s20181360223000_e20181360223200_c20181360223230.nc', '/glade/derecho/scratch/ahijevyc/noaa-goes16/GLM-L2-LCFA/2018/136/02/OR_GLM-L2-LCFA_G16_s20181360223200_e20181360223400_c20181360223424.nc', '/glade/derecho/scratch/ahijevyc/noaa-goes16/GLM-L2-LCFA/2018/136/02/OR_GLM-L2-LCFA_G16_s20181360223400_e20181360224000_c20181360224029.nc', '/glade/derecho/scratch/ahijevyc/noaa-goes16/GLM-L2-LCFA/2018/136/02/OR_GLM-L2-LCFA_G16_s20181360224000_e20181360224200_c20181360224230.nc', '/glade/derecho/scratch/ahijevyc/noaa-goes16/GLM-L2-LCFA/2018/136/02/OR_GLM-L2-LCFA_G16_s20181360224200_e20181360224400_c20181360224429.nc', '/glade/derecho/scratch/ahijevyc/noaa-goes16/GLM-L2-LCFA/2018/136/02/OR_GLM-L2-LCFA_G16_s20181360224400_e20181360225000_c20181360225029.nc', '/glade/derecho/scratch/ahijevyc/noaa-goes16/GLM-L2-LCFA/2018/136/02/OR_GLM-L2-LCFA_G16_s20181360225000_e20181360225200_c20181360225231.nc', '/glade/derecho/scratch/ahijevyc/noaa-goes16/GLM-L2-LCFA/2018/136/02/OR_GLM-L2-LCFA_G16_s20181360225200_e20181360225400_c20181360225423.nc', '/glade/derecho/scratch/ahijevyc/noaa-goes16/GLM-L2-LCFA/2018/136/02/OR_GLM-L2-LCFA_G16_s20181360225400_e20181360226000_c20181360226025.nc', '/glade/derecho/scratch/ahijevyc/noaa-goes16/GLM-L2-LCFA/2018/136/02/OR_GLM-L2-LCFA_G16_s20181360226000_e20181360226200_c20181360226227.nc', '/glade/derecho/scratch/ahijevyc/noaa-goes16/GLM-L2-LCFA/2018/136/02/OR_GLM-L2-LCFA_G16_s20181360226200_e20181360226400_c20181360226427.nc', '/glade/derecho/scratch/ahijevyc/noaa-goes16/GLM-L2-LCFA/2018/136/02/OR_GLM-L2-LCFA_G16_s20181360226400_e20181360227000_c20181360227026.nc', '/glade/derecho/scratch/ahijevyc/noaa-goes16/GLM-L2-LCFA/2018/136/02/OR_GLM-L2-LCFA_G16_s20181360227000_e20181360227200_c20181360227223.nc', '/glade/derecho/scratch/ahijevyc/noaa-goes16/GLM-L2-LCFA/2018/136/02/OR_GLM-L2-LCFA_G16_s20181360227200_e20181360227400_c20181360227425.nc', '/glade/derecho/scratch/ahijevyc/noaa-goes16/GLM-L2-LCFA/2018/136/02/OR_GLM-L2-LCFA_G16_s20181360227400_e20181360228000_c20181360228029.nc', '/glade/derecho/scratch/ahijevyc/noaa-goes16/GLM-L2-LCFA/2018/136/02/OR_GLM-L2-LCFA_G16_s20181360228000_e20181360228200_c20181360228224.nc', '/glade/derecho/scratch/ahijevyc/noaa-goes16/GLM-L2-LCFA/2018/136/02/OR_GLM-L2-LCFA_G16_s20181360228200_e20181360228400_c20181360228425.nc', '/glade/derecho/scratch/ahijevyc/noaa-goes16/GLM-L2-LCFA/2018/136/02/OR_GLM-L2-LCFA_G16_s20181360228400_e20181360229000_c20181360229030.nc', '/glade/derecho/scratch/ahijevyc/noaa-goes16/GLM-L2-LCFA/2018/136/02/OR_GLM-L2-LCFA_G16_s20181360229000_e20181360229200_c20181360229227.nc', '/glade/derecho/scratch/ahijevyc/noaa-goes16/GLM-L2-LCFA/2018/136/02/OR_GLM-L2-LCFA_G16_s20181360229200_e20181360229400_c20181360229427.nc', '/glade/derecho/scratch/ahijevyc/noaa-goes16/GLM-L2-LCFA/2018/136/02/OR_GLM-L2-LCFA_G16_s20181360229400_e20181360230000_c20181360230027.nc', '/glade/derecho/scratch/ahijevyc/noaa-goes16/GLM-L2-LCFA/2018/136/02/OR_GLM-L2-LCFA_G16_s20181360230000_e20181360230200_c20181360230225.nc', '/glade/derecho/scratch/ahijevyc/noaa-goes16/GLM-L2-LCFA/2018/136/02/OR_GLM-L2-LCFA_G16_s20181360230200_e20181360230400_c20181360230425.nc', '/glade/derecho/scratch/ahijevyc/noaa-goes16/GLM-L2-LCFA/2018/136/02/OR_GLM-L2-LCFA_G16_s20181360230400_e20181360231000_c20181360231026.nc', '/glade/derecho/scratch/ahijevyc/noaa-goes16/GLM-L2-LCFA/2018/136/02/OR_GLM-L2-LCFA_G16_s20181360231000_e20181360231200_c20181360231228.nc', '/glade/derecho/scratch/ahijevyc/noaa-goes16/GLM-L2-LCFA/2018/136/02/OR_GLM-L2-LCFA_G16_s20181360231200_e20181360231400_c20181360231426.nc', '/glade/derecho/scratch/ahijevyc/noaa-goes16/GLM-L2-LCFA/2018/136/02/OR_GLM-L2-LCFA_G16_s20181360231400_e20181360232000_c20181360232026.nc', '/glade/derecho/scratch/ahijevyc/noaa-goes16/GLM-L2-LCFA/2018/136/02/OR_GLM-L2-LCFA_G16_s20181360232000_e20181360232200_c20181360232227.nc', '/glade/derecho/scratch/ahijevyc/noaa-goes16/GLM-L2-LCFA/2018/136/02/OR_GLM-L2-LCFA_G16_s20181360232200_e20181360232400_c20181360232425.nc', '/glade/derecho/scratch/ahijevyc/noaa-goes16/GLM-L2-LCFA/2018/136/02/OR_GLM-L2-LCFA_G16_s20181360232400_e20181360233000_c20181360233029.nc', '/glade/derecho/scratch/ahijevyc/noaa-goes16/GLM-L2-LCFA/2018/136/02/OR_GLM-L2-LCFA_G16_s20181360233000_e20181360233200_c20181360233230.nc', '/glade/derecho/scratch/ahijevyc/noaa-goes16/GLM-L2-LCFA/2018/136/02/OR_GLM-L2-LCFA_G16_s20181360233200_e20181360233400_c20181360233428.nc', '/glade/derecho/scratch/ahijevyc/noaa-goes16/GLM-L2-LCFA/2018/136/02/OR_GLM-L2-LCFA_G16_s20181360233400_e20181360234000_c20181360234027.nc', '/glade/derecho/scratch/ahijevyc/noaa-goes16/GLM-L2-LCFA/2018/136/02/OR_GLM-L2-LCFA_G16_s20181360234000_e20181360234200_c20181360234230.nc', '/glade/derecho/scratch/ahijevyc/noaa-goes16/GLM-L2-LCFA/2018/136/02/OR_GLM-L2-LCFA_G16_s20181360234200_e20181360234400_c20181360234425.nc', '/glade/derecho/scratch/ahijevyc/noaa-goes16/GLM-L2-LCFA/2018/136/02/OR_GLM-L2-LCFA_G16_s20181360234400_e20181360235000_c20181360235027.nc', '/glade/derecho/scratch/ahijevyc/noaa-goes16/GLM-L2-LCFA/2018/136/02/OR_GLM-L2-LCFA_G16_s20181360235000_e20181360235200_c20181360235231.nc', '/glade/derecho/scratch/ahijevyc/noaa-goes16/GLM-L2-LCFA/2018/136/02/OR_GLM-L2-LCFA_G16_s20181360235200_e20181360235400_c20181360235536.nc', '/glade/derecho/scratch/ahijevyc/noaa-goes16/GLM-L2-LCFA/2018/136/02/OR_GLM-L2-LCFA_G16_s20181360235400_e20181360236000_c20181360236023.nc', '/glade/derecho/scratch/ahijevyc/noaa-goes16/GLM-L2-LCFA/2018/136/02/OR_GLM-L2-LCFA_G16_s20181360236000_e20181360236200_c20181360236228.nc', '/glade/derecho/scratch/ahijevyc/noaa-goes16/GLM-L2-LCFA/2018/136/02/OR_GLM-L2-LCFA_G16_s20181360236200_e20181360236400_c20181360236425.nc', '/glade/derecho/scratch/ahijevyc/noaa-goes16/GLM-L2-LCFA/2018/136/02/OR_GLM-L2-LCFA_G16_s20181360236400_e20181360237000_c20181360237024.nc', '/glade/derecho/scratch/ahijevyc/noaa-goes16/GLM-L2-LCFA/2018/136/02/OR_GLM-L2-LCFA_G16_s20181360237000_e20181360237200_c20181360237235.nc', '/glade/derecho/scratch/ahijevyc/noaa-goes16/GLM-L2-LCFA/2018/136/02/OR_GLM-L2-LCFA_G16_s20181360237200_e20181360237400_c20181360237427.nc', '/glade/derecho/scratch/ahijevyc/noaa-goes16/GLM-L2-LCFA/2018/136/02/OR_GLM-L2-LCFA_G16_s20181360237400_e20181360238000_c20181360238030.nc', '/glade/derecho/scratch/ahijevyc/noaa-goes16/GLM-L2-LCFA/2018/136/02/OR_GLM-L2-LCFA_G16_s20181360238000_e20181360238200_c20181360238232.nc', '/glade/derecho/scratch/ahijevyc/noaa-goes16/GLM-L2-LCFA/2018/136/02/OR_GLM-L2-LCFA_G16_s20181360238200_e20181360238400_c20181360238429.nc', '/glade/derecho/scratch/ahijevyc/noaa-goes16/GLM-L2-LCFA/2018/136/02/OR_GLM-L2-LCFA_G16_s20181360238400_e20181360239000_c20181360239033.nc', '/glade/derecho/scratch/ahijevyc/noaa-goes16/GLM-L2-LCFA/2018/136/02/OR_GLM-L2-LCFA_G16_s20181360239000_e20181360239200_c20181360239233.nc', '/glade/derecho/scratch/ahijevyc/noaa-goes16/GLM-L2-LCFA/2018/136/02/OR_GLM-L2-LCFA_G16_s20181360239200_e20181360239400_c20181360239427.nc', '/glade/derecho/scratch/ahijevyc/noaa-goes16/GLM-L2-LCFA/2018/136/02/OR_GLM-L2-LCFA_G16_s20181360239400_e20181360240000_c20181360240027.nc', '/glade/derecho/scratch/ahijevyc/noaa-goes16/GLM-L2-LCFA/2018/136/02/OR_GLM-L2-LCFA_G16_s20181360240000_e20181360240200_c20181360240224.nc', '/glade/derecho/scratch/ahijevyc/noaa-goes16/GLM-L2-LCFA/2018/136/02/OR_GLM-L2-LCFA_G16_s20181360240200_e20181360240400_c20181360240426.nc', '/glade/derecho/scratch/ahijevyc/noaa-goes16/GLM-L2-LCFA/2018/136/02/OR_GLM-L2-LCFA_G16_s20181360240400_e20181360241000_c20181360241028.nc', '/glade/derecho/scratch/ahijevyc/noaa-goes16/GLM-L2-LCFA/2018/136/02/OR_GLM-L2-LCFA_G16_s20181360241000_e20181360241200_c20181360241228.nc', '/glade/derecho/scratch/ahijevyc/noaa-goes16/GLM-L2-LCFA/2018/136/02/OR_GLM-L2-LCFA_G16_s20181360241200_e20181360241400_c20181360241427.nc', '/glade/derecho/scratch/ahijevyc/noaa-goes16/GLM-L2-LCFA/2018/136/02/OR_GLM-L2-LCFA_G16_s20181360241400_e20181360242000_c20181360242023.nc', '/glade/derecho/scratch/ahijevyc/noaa-goes16/GLM-L2-LCFA/2018/136/02/OR_GLM-L2-LCFA_G16_s20181360242000_e20181360242200_c20181360242223.nc', '/glade/derecho/scratch/ahijevyc/noaa-goes16/GLM-L2-LCFA/2018/136/02/OR_GLM-L2-LCFA_G16_s20181360242200_e20181360242400_c20181360242426.nc', '/glade/derecho/scratch/ahijevyc/noaa-goes16/GLM-L2-LCFA/2018/136/02/OR_GLM-L2-LCFA_G16_s20181360242400_e20181360243000_c20181360243028.nc', '/glade/derecho/scratch/ahijevyc/noaa-goes16/GLM-L2-LCFA/2018/136/02/OR_GLM-L2-LCFA_G16_s20181360243000_e20181360243200_c20181360243226.nc', '/glade/derecho/scratch/ahijevyc/noaa-goes16/GLM-L2-LCFA/2018/136/02/OR_GLM-L2-LCFA_G16_s20181360243200_e20181360243400_c20181360243425.nc', '/glade/derecho/scratch/ahijevyc/noaa-goes16/GLM-L2-LCFA/2018/136/02/OR_GLM-L2-LCFA_G16_s20181360243400_e20181360244000_c20181360244026.nc', '/glade/derecho/scratch/ahijevyc/noaa-goes16/GLM-L2-LCFA/2018/136/02/OR_GLM-L2-LCFA_G16_s20181360244000_e20181360244200_c20181360244227.nc', '/glade/derecho/scratch/ahijevyc/noaa-goes16/GLM-L2-LCFA/2018/136/02/OR_GLM-L2-LCFA_G16_s20181360244200_e20181360244400_c20181360244423.nc', '/glade/derecho/scratch/ahijevyc/noaa-goes16/GLM-L2-LCFA/2018/136/02/OR_GLM-L2-LCFA_G16_s20181360244400_e20181360245000_c20181360245026.nc', '/glade/derecho/scratch/ahijevyc/noaa-goes16/GLM-L2-LCFA/2018/136/02/OR_GLM-L2-LCFA_G16_s20181360245000_e20181360245200_c20181360245228.nc', '/glade/derecho/scratch/ahijevyc/noaa-goes16/GLM-L2-LCFA/2018/136/02/OR_GLM-L2-LCFA_G16_s20181360245200_e20181360245400_c20181360245424.nc', '/glade/derecho/scratch/ahijevyc/noaa-goes16/GLM-L2-LCFA/2018/136/02/OR_GLM-L2-LCFA_G16_s20181360245400_e20181360246000_c20181360246026.nc', '/glade/derecho/scratch/ahijevyc/noaa-goes16/GLM-L2-LCFA/2018/136/02/OR_GLM-L2-LCFA_G16_s20181360246000_e20181360246200_c20181360246227.nc', '/glade/derecho/scratch/ahijevyc/noaa-goes16/GLM-L2-LCFA/2018/136/02/OR_GLM-L2-LCFA_G16_s20181360246200_e20181360246400_c20181360246425.nc', '/glade/derecho/scratch/ahijevyc/noaa-goes16/GLM-L2-LCFA/2018/136/02/OR_GLM-L2-LCFA_G16_s20181360246400_e20181360247000_c20181360247028.nc', '/glade/derecho/scratch/ahijevyc/noaa-goes16/GLM-L2-LCFA/2018/136/02/OR_GLM-L2-LCFA_G16_s20181360247000_e20181360247200_c20181360247227.nc', '/glade/derecho/scratch/ahijevyc/noaa-goes16/GLM-L2-LCFA/2018/136/02/OR_GLM-L2-LCFA_G16_s20181360247200_e20181360247400_c20181360247425.nc', '/glade/derecho/scratch/ahijevyc/noaa-goes16/GLM-L2-LCFA/2018/136/02/OR_GLM-L2-LCFA_G16_s20181360247400_e20181360248000_c20181360248028.nc', '/glade/derecho/scratch/ahijevyc/noaa-goes16/GLM-L2-LCFA/2018/136/02/OR_GLM-L2-LCFA_G16_s20181360248000_e20181360248200_c20181360248226.nc', '/glade/derecho/scratch/ahijevyc/noaa-goes16/GLM-L2-LCFA/2018/136/02/OR_GLM-L2-LCFA_G16_s20181360248200_e20181360248400_c20181360248428.nc', '/glade/derecho/scratch/ahijevyc/noaa-goes16/GLM-L2-LCFA/2018/136/02/OR_GLM-L2-LCFA_G16_s20181360248400_e20181360249000_c20181360249028.nc', '/glade/derecho/scratch/ahijevyc/noaa-goes16/GLM-L2-LCFA/2018/136/02/OR_GLM-L2-LCFA_G16_s20181360249000_e20181360249200_c20181360249230.nc', '/glade/derecho/scratch/ahijevyc/noaa-goes16/GLM-L2-LCFA/2018/136/02/OR_GLM-L2-LCFA_G16_s20181360249200_e20181360249400_c20181360249428.nc', '/glade/derecho/scratch/ahijevyc/noaa-goes16/GLM-L2-LCFA/2018/136/02/OR_GLM-L2-LCFA_G16_s20181360249400_e20181360250000_c20181360250027.nc', '/glade/derecho/scratch/ahijevyc/noaa-goes16/GLM-L2-LCFA/2018/136/02/OR_GLM-L2-LCFA_G16_s20181360250000_e20181360250200_c20181360250235.nc', '/glade/derecho/scratch/ahijevyc/noaa-goes16/GLM-L2-LCFA/2018/136/02/OR_GLM-L2-LCFA_G16_s20181360250200_e20181360250400_c20181360250427.nc', '/glade/derecho/scratch/ahijevyc/noaa-goes16/GLM-L2-LCFA/2018/136/02/OR_GLM-L2-LCFA_G16_s20181360250400_e20181360251000_c20181360251024.nc', '/glade/derecho/scratch/ahijevyc/noaa-goes16/GLM-L2-LCFA/2018/136/02/OR_GLM-L2-LCFA_G16_s20181360251000_e20181360251200_c20181360251231.nc', '/glade/derecho/scratch/ahijevyc/noaa-goes16/GLM-L2-LCFA/2018/136/02/OR_GLM-L2-LCFA_G16_s20181360251200_e20181360251400_c20181360251429.nc', '/glade/derecho/scratch/ahijevyc/noaa-goes16/GLM-L2-LCFA/2018/136/02/OR_GLM-L2-LCFA_G16_s20181360251400_e20181360252000_c20181360252029.nc', '/glade/derecho/scratch/ahijevyc/noaa-goes16/GLM-L2-LCFA/2018/136/02/OR_GLM-L2-LCFA_G16_s20181360252000_e20181360252200_c20181360252235.nc', '/glade/derecho/scratch/ahijevyc/noaa-goes16/GLM-L2-LCFA/2018/136/02/OR_GLM-L2-LCFA_G16_s20181360252200_e20181360252400_c20181360252424.nc', '/glade/derecho/scratch/ahijevyc/noaa-goes16/GLM-L2-LCFA/2018/136/02/OR_GLM-L2-LCFA_G16_s20181360252400_e20181360253000_c20181360253030.nc', '/glade/derecho/scratch/ahijevyc/noaa-goes16/GLM-L2-LCFA/2018/136/02/OR_GLM-L2-LCFA_G16_s20181360253000_e20181360253200_c20181360253229.nc', '/glade/derecho/scratch/ahijevyc/noaa-goes16/GLM-L2-LCFA/2018/136/02/OR_GLM-L2-LCFA_G16_s20181360253200_e20181360253400_c20181360253425.nc', '/glade/derecho/scratch/ahijevyc/noaa-goes16/GLM-L2-LCFA/2018/136/02/OR_GLM-L2-LCFA_G16_s20181360253400_e20181360254000_c20181360254030.nc', '/glade/derecho/scratch/ahijevyc/noaa-goes16/GLM-L2-LCFA/2018/136/02/OR_GLM-L2-LCFA_G16_s20181360254000_e20181360254200_c20181360254225.nc', '/glade/derecho/scratch/ahijevyc/noaa-goes16/GLM-L2-LCFA/2018/136/02/OR_GLM-L2-LCFA_G16_s20181360254200_e20181360254400_c20181360254428.nc', '/glade/derecho/scratch/ahijevyc/noaa-goes16/GLM-L2-LCFA/2018/136/02/OR_GLM-L2-LCFA_G16_s20181360254400_e20181360255000_c20181360255027.nc', '/glade/derecho/scratch/ahijevyc/noaa-goes16/GLM-L2-LCFA/2018/136/02/OR_GLM-L2-LCFA_G16_s20181360255000_e20181360255200_c20181360255226.nc', '/glade/derecho/scratch/ahijevyc/noaa-goes16/GLM-L2-LCFA/2018/136/02/OR_GLM-L2-LCFA_G16_s20181360255200_e20181360255400_c20181360255426.nc', '/glade/derecho/scratch/ahijevyc/noaa-goes16/GLM-L2-LCFA/2018/136/02/OR_GLM-L2-LCFA_G16_s20181360255400_e20181360256000_c20181360256026.nc', '/glade/derecho/scratch/ahijevyc/noaa-goes16/GLM-L2-LCFA/2018/136/02/OR_GLM-L2-LCFA_G16_s20181360256000_e20181360256200_c20181360256225.nc', '/glade/derecho/scratch/ahijevyc/noaa-goes16/GLM-L2-LCFA/2018/136/02/OR_GLM-L2-LCFA_G16_s20181360256200_e20181360256400_c20181360256425.nc', '/glade/derecho/scratch/ahijevyc/noaa-goes16/GLM-L2-LCFA/2018/136/02/OR_GLM-L2-LCFA_G16_s20181360256400_e20181360257000_c20181360257026.nc', '/glade/derecho/scratch/ahijevyc/noaa-goes16/GLM-L2-LCFA/2018/136/02/OR_GLM-L2-LCFA_G16_s20181360257000_e20181360257200_c20181360257227.nc', '/glade/derecho/scratch/ahijevyc/noaa-goes16/GLM-L2-LCFA/2018/136/02/OR_GLM-L2-LCFA_G16_s20181360257200_e20181360257400_c20181360257427.nc', '/glade/derecho/scratch/ahijevyc/noaa-goes16/GLM-L2-LCFA/2018/136/02/OR_GLM-L2-LCFA_G16_s20181360257400_e20181360258000_c20181360258028.nc', '/glade/derecho/scratch/ahijevyc/noaa-goes16/GLM-L2-LCFA/2018/136/02/OR_GLM-L2-LCFA_G16_s20181360258000_e20181360258200_c20181360258227.nc', '/glade/derecho/scratch/ahijevyc/noaa-goes16/GLM-L2-LCFA/2018/136/02/OR_GLM-L2-LCFA_G16_s20181360258200_e20181360258400_c20181360258425.nc', '/glade/derecho/scratch/ahijevyc/noaa-goes16/GLM-L2-LCFA/2018/136/02/OR_GLM-L2-LCFA_G16_s20181360258400_e20181360259000_c20181360259028.nc', '/glade/derecho/scratch/ahijevyc/noaa-goes16/GLM-L2-LCFA/2018/136/02/OR_GLM-L2-LCFA_G16_s20181360259000_e20181360259200_c20181360259224.nc', '/glade/derecho/scratch/ahijevyc/noaa-goes16/GLM-L2-LCFA/2018/136/02/OR_GLM-L2-LCFA_G16_s20181360259200_e20181360259400_c20181360259426.nc', '/glade/derecho/scratch/ahijevyc/noaa-goes16/GLM-L2-LCFA/2018/136/02/OR_GLM-L2-LCFA_G16_s20181360259400_e20181360300000_c20181360300027.nc'], outdir='/glade/derecho/scratch/ahijevyc/tmp/GLM', ctr_lat=32.5, ctr_lon=-99.5, start='2018-05-16T02:00:00', end='2018-05-16T03:00:00', dx=10.0, dy=10.0, dt=3600.0, width=655.9055274086812, height=777.6999999999999, min_events=1, min_groups=1, fixed_grid=False, subdivide_grid=1, goes_position='east', goes_sector='none', corner_points=None, split_events=False, ellipse_rev=-1, output_scale_and_offset=True, is_lma=False, lcc=False, x_bnd=(-103, -96), y_bnd=(29, 36), spatial_scale_factor=1, ngroups=1)"
      ]
     },
     "execution_count": 5,
     "metadata": {},
     "output_type": "execute_result"
    }
   ],
   "source": [
    "(width,) = np.diff(lon_range) * 111.1 * np.cos(np.radians(np.array(lat_range).mean()))\n",
    "(height,) = np.diff(lat_range) * 111.1\n",
    "\n",
    "args.lcc = False\n",
    "args.x_bnd = lon_range\n",
    "args.y_bnd = lat_range\n",
    "args.ctr_lat = np.array(lat_range).mean()\n",
    "args.ctr_lon = np.array(lon_range).mean()\n",
    "args.spatial_scale_factor = 1\n",
    "args.width = width\n",
    "args.height = height\n",
    "args.dx = dx\n",
    "args.dy = dx\n",
    "args.dt = duration.total_seconds()\n",
    "args.filenames = filenames\n",
    "args.goes_position = \"east\"\n",
    "args.ngroups = 1\n",
    "args.outdir = os.path.join(os.getenv(\"TMPDIR\"), \"GLM\")\n",
    "args.start = startdate.isoformat()\n",
    "args.end = enddate.isoformat()\n",
    "args"
   ]
  },
  {
   "cell_type": "markdown",
   "id": "3ec7894e-a443-44ca-9fc7-533fa2257637",
   "metadata": {},
   "source": [
    "## Gridded lightning density"
   ]
  },
  {
   "cell_type": "code",
   "execution_count": 6,
   "id": "510ce576-ddbd-4cb0-8a8b-02c609e89d8d",
   "metadata": {},
   "outputs": [
    {
     "ename": "AttributeError",
     "evalue": "'str' object has no attribute 'floor'",
     "output_type": "error",
     "traceback": [
      "\u001b[0;31m---------------------------------------------------------------------------\u001b[0m",
      "\u001b[0;31mAttributeError\u001b[0m                            Traceback (most recent call last)",
      "Cell \u001b[0;32mIn[6], line 1\u001b[0m\n\u001b[0;32m----> 1\u001b[0m gridder, glm_filenames, start_time, end_time, grid_kwargs \u001b[38;5;241m=\u001b[39m \u001b[43mgrid_setup\u001b[49m\u001b[43m(\u001b[49m\u001b[43margs\u001b[49m\u001b[43m)\u001b[49m\n\u001b[1;32m      2\u001b[0m grid_kwargs\u001b[38;5;241m.\u001b[39mupdate({\u001b[38;5;124m\"\u001b[39m\u001b[38;5;124moutput_filename_prefix\u001b[39m\u001b[38;5;124m\"\u001b[39m: \u001b[38;5;124m\"\u001b[39m\u001b[38;5;124mG16\u001b[39m\u001b[38;5;124m\"\u001b[39m})\n\u001b[1;32m      4\u001b[0m nc_files \u001b[38;5;241m=\u001b[39m glm_files(args, grid_kwargs)\n",
      "File \u001b[0;32m/glade/derecho/scratch/ahijevyc/glmtools/examples/grid/make_GLM_grids.py:182\u001b[0m, in \u001b[0;36mgrid_setup\u001b[0;34m(args)\u001b[0m\n\u001b[1;32m    171\u001b[0m \u001b[38;5;28;01melse\u001b[39;00m:\n\u001b[1;32m    172\u001b[0m     \u001b[38;5;66;03m# Used to use max(filename_ends), but on 27 Oct 2020, the filename\u001b[39;00m\n\u001b[1;32m    173\u001b[0m     \u001b[38;5;66;03m# ends started to report the time of the last event in the file,\u001b[39;00m\n\u001b[0;32m   (...)\u001b[0m\n\u001b[1;32m    178\u001b[0m     \u001b[38;5;66;03m# the start time. No doubt in the future we will see filenames that no\u001b[39;00m\n\u001b[1;32m    179\u001b[0m     \u001b[38;5;66;03m# longer start on an even minute boundary.\u001b[39;00m\n\u001b[1;32m    180\u001b[0m     end_time \u001b[38;5;241m=\u001b[39m \u001b[38;5;28mmax\u001b[39m(filename_starts) \u001b[38;5;241m+\u001b[39m timedelta(\u001b[38;5;241m0\u001b[39m, \u001b[38;5;241m20\u001b[39m)\n\u001b[0;32m--> 182\u001b[0m date \u001b[38;5;241m=\u001b[39m \u001b[43mstart_time\u001b[49m\u001b[38;5;241;43m.\u001b[39;49m\u001b[43mfloor\u001b[49m(\u001b[38;5;124m\"\u001b[39m\u001b[38;5;124m1D\u001b[39m\u001b[38;5;124m\"\u001b[39m)\n\u001b[1;32m    184\u001b[0m outpath \u001b[38;5;241m=\u001b[39m args\u001b[38;5;241m.\u001b[39moutdir\n\u001b[1;32m    185\u001b[0m \u001b[38;5;28;01mif\u001b[39;00m \u001b[38;5;129;01mnot\u001b[39;00m os\u001b[38;5;241m.\u001b[39mpath\u001b[38;5;241m.\u001b[39mexists(outpath):\n",
      "\u001b[0;31mAttributeError\u001b[0m: 'str' object has no attribute 'floor'"
     ]
    }
   ],
   "source": [
    "gridder, glm_filenames, start_time, end_time, grid_kwargs = grid_setup(args)\n",
    "grid_kwargs.update({\"output_filename_prefix\": \"G16\"})\n",
    "\n",
    "nc_files = glm_files(args, grid_kwargs)\n",
    "\n",
    "if len(nc_files) == 0:\n",
    "    _ = gridder(glm_filenames, start_time, end_time, **grid_kwargs)\n",
    "    nc_files = glm_files(args, grid_kwargs)\n",
    "\n",
    "grd = xarray.open_mfdataset(nc_files)\n",
    "grd = grd.rename(ntimes=\"time\")\n",
    "grd = grd.assign_coords(\n",
    "    dict(lon=grd.longitude, lat=grd.latitude, time=[start_time + duration / 2])\n",
    ")\n",
    "grd"
   ]
  },
  {
   "cell_type": "code",
   "execution_count": null,
   "id": "28bd73d1-155a-4c30-924c-f70f3e3d170c",
   "metadata": {},
   "outputs": [],
   "source": [
    "nc_files"
   ]
  },
  {
   "cell_type": "code",
   "execution_count": null,
   "id": "bd0c55aa-270f-4123-a41a-5177b558533d",
   "metadata": {},
   "outputs": [],
   "source": [
    "f = grd[\"group_extent_density\"]\n",
    "f = f.where(f > 0)\n",
    "f"
   ]
  },
  {
   "cell_type": "code",
   "execution_count": null,
   "id": "817fdef1-7a31-4abc-95a4-6f92a79df599",
   "metadata": {},
   "outputs": [],
   "source": [
    "# Set the axes using the specified map projection\n",
    "map_crs = ccrs.LambertConformal(central_latitude=35, central_longitude=-100)\n",
    "map_crs = ccrs.PlateCarree()\n",
    "fig, ax = make_map(bbox=[*lon_range, *lat_range], projection=map_crs)\n",
    "f.plot(x=\"lon\", ax=ax, transform=ccrs.PlateCarree(), cmap=\"tab20c_r\", alpha=0.8)"
   ]
  },
  {
   "cell_type": "markdown",
   "id": "656a41b1-9dac-4888-87c8-8ac0052513e9",
   "metadata": {},
   "source": [
    "## MRMS"
   ]
  },
  {
   "cell_type": "code",
   "execution_count": null,
   "id": "a207e84e-bd98-441e-99f3-7e10bc32bfee",
   "metadata": {},
   "outputs": [],
   "source": [
    "idir = \"/glade/campaign/mmm/parc/sobash/MRMS\"  # hourly files\n",
    "glmt = start_time + duration / 2\n",
    "search_str = f\"{idir}/{glmt.strftime('%Y%m%d')}\"\n",
    "search_str += \"/MRMS_MergedReflectivityQCComposite_00.50_\"\n",
    "search_str += f\"{glmt.strftime('%Y%m%d-%H')}*.grib2.gz\"\n",
    "logging.info(f\"MRMS search_str={search_str}\")\n",
    "(gzfile,) = glob.glob(search_str)\n",
    "logging.info(f\"closest mrms {gzfile}\")\n",
    "\n",
    "base, ext = os.path.splitext(gzfile)\n",
    "targetdir = os.getenv(\"TMPDIR\")\n",
    "grb = os.path.join(targetdir, os.path.basename(base))  # without .gz\n",
    "\n",
    "if not os.path.exists(grb):\n",
    "    logging.info(f\"gunzip {gzfile}\")\n",
    "    with gzip.open(gzfile, \"rb\") as f_in:\n",
    "        logging.info(f\"write {grb}\")\n",
    "        with open(grb, \"wb\") as f_out:\n",
    "            shutil.copyfileobj(f_in, f_out)\n",
    "\n",
    "logging.info(f\"opening dataset {grb}\")\n",
    "ds = xarray.open_dataset(\n",
    "    grb, engine=\"cfgrib\", backend_kwargs={\"indexpath\": \"{path}.{short_hash}.idx\"}\n",
    ")\n",
    "ds"
   ]
  },
  {
   "cell_type": "code",
   "execution_count": null,
   "id": "5b030141-450e-438f-bba2-0162582d8248",
   "metadata": {},
   "outputs": [],
   "source": [
    "dbz = ds.unknown\n",
    "logging.debug(\"reindexing lon\")\n",
    "dbz = dbz.assign_coords(longitude=((dbz.longitude + 180) % 360) - 180)\n",
    "logging.debug(\"flipping lat\")\n",
    "dbz = dbz.reindex(latitude=dbz.latitude[::-1])\n",
    "dbz = dbz.where(dbz > -30)\n",
    "slice_dbz = dbz.sel(longitude=slice(*lon_range), latitude=slice(*lat_range))\n",
    "fig, ax = make_map(bbox=[*lon_range, *lat_range], projection=ccrs.PlateCarree())\n",
    "slice_dbz.plot(\n",
    "    ax=ax,\n",
    "    x=\"longitude\",\n",
    "    y=\"latitude\",\n",
    "    cmap=\"tab20c_r\",\n",
    "    transform=ccrs.PlateCarree(),\n",
    "    vmin=-5,\n",
    "    vmax=80,\n",
    ")"
   ]
  },
  {
   "cell_type": "code",
   "execution_count": null,
   "id": "00253fd1-bca4-475f-b12a-b3654403f9d5",
   "metadata": {},
   "outputs": [],
   "source": [
    "def do_plot(dbz, lon_range, lat_range, glmfiles=[], grid=None):\n",
    "    ax.imshow(\n",
    "        dbz,\n",
    "        extent=(*lon_range, *lat_range),\n",
    "        origin=\"lower\",\n",
    "        cmap=\"tab20c_r\",\n",
    "        transform=ccrs.PlateCarree(),\n",
    "    )\n",
    "    for f in glmfiles:\n",
    "        glm = GLMDataset(f)\n",
    "        flashes_subset = glm.subset_flashes(lon_range=lon_range, lat_range=lat_range)\n",
    "        for flash_id in flashes_subset.flash_id:\n",
    "            _ = plot_flash(glm, flash_id, ax, ccrs.PlateCarree())\n",
    "    if grid is not None:\n",
    "        grid.isel(time=0).plot.pcolormesh(\n",
    "            x=\"lon\", y=\"lat\", ax=ax, cmap=\"Set1_r\", alpha=0.7, transform=ccrs.PlateCarree()\n",
    "        )"
   ]
  },
  {
   "cell_type": "code",
   "execution_count": null,
   "id": "bfd3892f-3ab7-4ad2-a17d-6182c9194015",
   "metadata": {},
   "outputs": [],
   "source": [
    "filenames = myglm.download(startdate, enddate, bucket=\"noaa-goes16\")\n",
    "fig, ax = make_map(bbox=[*lon_range, *lat_range], projection=map_crs)\n",
    "do_plot(slice_dbz, lon_range, lat_range, grid=f)"
   ]
  },
  {
   "cell_type": "code",
   "execution_count": null,
   "id": "d23573a5-0400-4b94-8a07-428c0dda2708",
   "metadata": {},
   "outputs": [],
   "source": [
    "fig, ax = make_map(bbox=[*lon_range, *lat_range], projection=map_crs)\n",
    "do_plot(slice_dbz, lon_range, lat_range, glmfiles=filenames)"
   ]
  },
  {
   "cell_type": "markdown",
   "id": "f4635db6-c140-4844-ae32-e19b826f0cf0",
   "metadata": {},
   "source": [
    "![fig](https://journals.ametsoc.org/view/journals/wefo/35/2/full-waf-d-19-0141.1-f3.jpg)"
   ]
  },
  {
   "cell_type": "code",
   "execution_count": null,
   "id": "30452420-4aaf-404c-8d7b-2a7874491d3a",
   "metadata": {},
   "outputs": [],
   "source": [
    "filenames = myglm.download(startdate, enddate, bucket=\"noaa-goes17\")\n",
    "args.filenames = filenames\n",
    "gridder, glm_filenames, start_time, end_time, grid_kwargs = grid_setup(args)\n",
    "\n",
    "grid_kwargs.update({\"output_filename_prefix\": \"G17\"})\n",
    "\n",
    "nc_files = glm_files(args, grid_kwargs)\n",
    "\n",
    "if len(nc_files) == 0:\n",
    "    _ = gridder(glm_filenames, start_time, end_time, **grid_kwargs)\n",
    "    nc_files = glm_files(args, grid_kwargs)\n",
    "\n",
    "grd = xarray.open_mfdataset(nc_files)\n",
    "grd = grd.rename(ntimes=\"time\")\n",
    "grd = grd.assign_coords(\n",
    "    dict(lon=grd.longitude, lat=grd.latitude, time=[start_time + duration / 2])\n",
    ")\n",
    "grd = grd[\"flash_extent_density\"]\n",
    "grd = f.where(grd > 0)\n",
    "fig, ax = make_map(bbox=[*lon_range, *lat_range], projection=map_crs)\n",
    "do_plot(slice_dbz, lon_range, lat_range, glmfiles=filenames, grid=grd)"
   ]
  },
  {
   "cell_type": "code",
   "execution_count": null,
   "id": "b72278fd-a280-4051-befd-6624b607815d",
   "metadata": {},
   "outputs": [],
   "source": [
    "glm = GLMDataset(filenames[0])\n",
    "from glmtools.io.mimic_lma import read_flashes\n",
    "\n",
    "d = read_flashes(glm, target=None, clip_events=False)\n",
    "d[0]"
   ]
  },
  {
   "cell_type": "code",
   "execution_count": null,
   "id": "4bb52028-cfc6-47ea-b885-4302bae1b699",
   "metadata": {},
   "outputs": [],
   "source": [
    "d[0][\"flash\"][1]"
   ]
  },
  {
   "cell_type": "code",
   "execution_count": null,
   "id": "354c8a34-b30b-42f7-a8f1-994333183a3a",
   "metadata": {},
   "outputs": [],
   "source": []
  }
 ],
 "metadata": {
  "kernelspec": {
   "display_name": "Python [conda env:glmval]",
   "language": "python",
   "name": "conda-env-glmval-py"
  },
  "language_info": {
   "codemirror_mode": {
    "name": "ipython",
    "version": 3
   },
   "file_extension": ".py",
   "mimetype": "text/x-python",
   "name": "python",
   "nbconvert_exporter": "python",
   "pygments_lexer": "ipython3",
   "version": "3.12.0"
  }
 },
 "nbformat": 4,
 "nbformat_minor": 5
}
